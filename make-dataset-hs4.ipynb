{
 "cells": [
  {
   "cell_type": "code",
   "execution_count": 25,
   "metadata": {},
   "outputs": [],
   "source": [
    "import pandas as pd             # data package\n",
    "import matplotlib.pyplot as plt # graphics \n",
    "import datetime as dt\n",
    "import numpy as np\n",
    "from census import Census # This is new...\n",
    "\n",
    "import requests, io             # internet and input tools  \n",
    "import zipfile as zf            # zip file tools \n",
    "import os  \n",
    "\n",
    "#import weightedcalcs as wc\n",
    "#import numpy as np\n",
    "\n",
    "import pyarrow as pa\n",
    "import pyarrow.parquet as pq"
   ]
  },
  {
   "cell_type": "code",
   "execution_count": 26,
   "metadata": {},
   "outputs": [],
   "source": [
    "file = \".\\\\data\"+ \"\\\\phaseone-tradedata-C-october.parquet\"\n",
    "\n",
    "df = pq.read_table(file).to_pandas()\n",
    "\n",
    "df.replace({'Electrical equipment and mac.hioery':'Electrical equipment and machinery',\n",
    "           'Industrial mac.hin ery': 'Industrial machinery'}, inplace = True)\n",
    "\n",
    "df[\"hs2\"] = df.hs4.str[0:2]\n",
    "\n",
    "df = df[df[\"high_catagory\"] != \"not in aggreement\"]"
   ]
  },
  {
   "cell_type": "code",
   "execution_count": 27,
   "metadata": {},
   "outputs": [],
   "source": [
    "aws = df.groupby([\"description\",\"time\"]).agg({\"china_exports\":\"sum\", \"hs4\": \"first\"})"
   ]
  },
  {
   "cell_type": "code",
   "execution_count": 28,
   "metadata": {},
   "outputs": [],
   "source": [
    "aws.reset_index(inplace = True)\n",
    "\n",
    "aws[\"description\"] = \"HS CODE \" + aws[\"hs4\"] + \", \" + aws[\"description\"]\n",
    "\n",
    "aws.set_index([\"description\", \"time\"], inplace = True)"
   ]
  },
  {
   "cell_type": "code",
   "execution_count": 29,
   "metadata": {},
   "outputs": [],
   "source": [
    "out_file = \".\\\\data\"+ \"\\\\data-hs4.parquet\"\n",
    "\n",
    "pq.write_table(pa.Table.from_pandas(aws), out_file)"
   ]
  },
  {
   "cell_type": "code",
   "execution_count": 30,
   "metadata": {},
   "outputs": [],
   "source": [
    "file = \".\\\\data\"+ \"\\\\data-hs4.parquet\"\n",
    "\n",
    "df = pq.read_table(file).to_pandas()"
   ]
  },
  {
   "cell_type": "code",
   "execution_count": 36,
   "metadata": {},
   "outputs": [
    {
     "data": {
      "text/plain": [
       "Index(['HS CODE 1601, Sausages and similar products, of meat, meat offalor blood; food preparations based on these products',\n",
       "       'HS CODE 0909, Seeds of anise, badian, fennel, coriander, cumin or caraway; juniper berries',\n",
       "       'HS CODE 1209, Seeds, fruit and spores, of a kind used for sowing',\n",
       "       'HS CODE 8429, Self-propelled bulldozers, angledozers, graders, levelers, scrapers, mechanical shovels, excavators, shovel loaders, tamping machines and road rollers',\n",
       "       'HS CODE 7207, Semifinished products of iron or nonalloy steel',\n",
       "       'HS CODE 8452, Sewing machines, other than book-sewing machines of heading 8440; furniture, bases and covers specially designed for sewing machines; sewing machine needles; parts thereof',\n",
       "       'HS CODE 8510, Shavers  , hair clippers and hair-removingappliances, with self-containedelectric motor; parts thereof',\n",
       "       'HS CODE 0104, Sheep and goa,ts  live',\n",
       "       'HS CODE 7301, Sheet piling of iron or ste,el  whether or not drille, d  punched or made from assembled elements; welded angl,es  shapes and\\nsections, of iron or steel',\n",
       "       'HS CODE 4408, Sheets for veneering (including those obtained by slicing laminated wood), for plywood or for similar laminated wood and\\nother woo, d  sawn lengthwi,se  sliced or peeled, whether or not planed, sande, d  spliced or end-jointe, d  of a thickness not exceeding 6 mm',\n",
       "       'HS CODE 8426, Ships' derricks; cranes, including cable cranes; mobile lifting frames, straddle carriers and works trucks fitted with a crane',\n",
       "       'HS CODE 2839, Silicates; commercial alkali metal silicates',\n",
       "       'HS CODE 5003, Silk waste (including cocoons unsuitable for reeling, yam waste and garnetted stock)',\n",
       "       'HS CODE 5001, Silkworm cocoons suitable for reeling',\n",
       "       'HS CODE 2815, Sodium hydroxide(Caustic soda); potassium hydroxide (Caustic potash); peroxides of sodium or potassium',\n",
       "       'HS CODE 8519, Sound recording or reproducing apparatus',\n",
       "       'HS CODE 2104, Soups and broths and preparations therefor; homogenized composite food preparations',\n",
       "       'HS CODE 1507, Soybean oil and its fractions, whether or not refined, but not chemically modified',\n",
       "       'HS CODE 2304, Soybean oilcake and other solid residues resulting from the extraction of soy bean oil, whether or not ground or in the form of pellets',\n",
       "       'HS CODE 1201, Soybeans    , whether or not broken',\n",
       "       'HS CODE 8407, Spark-ignition reciprocating or rotary internal combustion piston engines',\n",
       "       'HS CODE 7218, Stainless steel in ingots or other primary forms; semi-finished products of stainless steel',\n",
       "       'HS CODE 8402, Stearn or other vapor generating boilers (other than central heating hot ,vater boilers capable also of producing low pressure steam); super-heated ,vater boilers;',\n",
       "       'HS CODE 8406, Stearn turbines and other vapor turbines, and parts thereof',\n",
       "       'HS CODE 1704, Sugar confectionary (including white chocolate), not containing cocoa'],\n",
       "      dtype='object', name='description')"
      ]
     },
     "execution_count": 36,
     "metadata": {},
     "output_type": "execute_result"
    }
   ],
   "source": [
    "df.index.get_level_values(0).unique()[425:450]"
   ]
  },
  {
   "cell_type": "code",
   "execution_count": null,
   "metadata": {},
   "outputs": [],
   "source": []
  }
 ],
 "metadata": {
  "kernelspec": {
   "display_name": "Python 3",
   "language": "python",
   "name": "python3"
  },
  "language_info": {
   "codemirror_mode": {
    "name": "ipython",
    "version": 3
   },
   "file_extension": ".py",
   "mimetype": "text/x-python",
   "name": "python",
   "nbconvert_exporter": "python",
   "pygments_lexer": "ipython3",
   "version": "3.7.3"
  }
 },
 "nbformat": 4,
 "nbformat_minor": 4
}
