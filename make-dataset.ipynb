{
 "cells": [
  {
   "cell_type": "code",
   "execution_count": 3,
   "metadata": {},
   "outputs": [],
   "source": [
    "import pandas as pd             # data package\n",
    "import matplotlib.pyplot as plt # graphics \n",
    "import datetime as dt\n",
    "import numpy as np\n",
    "from census import Census # This is new...\n",
    "\n",
    "import requests, io             # internet and input tools  \n",
    "import zipfile as zf            # zip file tools \n",
    "import os  \n",
    "\n",
    "#import weightedcalcs as wc\n",
    "#import numpy as np\n",
    "\n",
    "import pyarrow as pa\n",
    "import pyarrow.parquet as pq"
   ]
  },
  {
   "cell_type": "code",
   "execution_count": 4,
   "metadata": {},
   "outputs": [],
   "source": [
    "file = \".\\\\data\"+ \"\\\\phaseone-tradedata-C-november.parquet\"\n",
    "\n",
    "df = pq.read_table(file).to_pandas()\n",
    "\n",
    "df.replace({'Electrical equipment and mac.hioery':'Electrical equipment and machinery',\n",
    "           'Industrial mac.hin ery': 'Industrial machinery'}, inplace = True)\n",
    "\n",
    "df[\"hs2\"] = df.hs4.str[0:2]"
   ]
  },
  {
   "cell_type": "code",
   "execution_count": 5,
   "metadata": {},
   "outputs": [],
   "source": [
    "df = df[df[\"high_catagory\"] != \"not in aggreement\"]"
   ]
  },
  {
   "cell_type": "code",
   "execution_count": 6,
   "metadata": {},
   "outputs": [
    {
     "name": "stdout",
     "output_type": "stream",
     "text": [
      "<Response [200]>\n"
     ]
    }
   ],
   "source": [
    "my_key = \"&key=34e40301bda77077e24c859c6c6c0b721ad73fc7\"\n",
    "\n",
    "end_use = \"hs?get=E_COMMODITY,ALL_VAL_YR,E_COMMODITY_SDESC\"\n",
    "\n",
    "url = \"https://api.census.gov/data/timeseries/intltrade/exports/\" + end_use \n",
    "url = url + my_key + \"&time=2019\" + \"&COMM_LVL=HS2\"\n",
    "\n",
    "url = url + \"&CTY_CODE=5700\"\n",
    "\n",
    "r = requests.get(url) \n",
    "    \n",
    "print(r)\n",
    "    \n",
    "dfc = pd.DataFrame(r.json()[1:]) # This then converts it to a dataframe\n",
    "    # Note that the first entry is the labels\n",
    "\n",
    "dfc.columns = r.json()[0]\n",
    "\n",
    "dfc = dfc.groupby(\"E_COMMODITY\").agg({\"E_COMMODITY_SDESC\":\"first\"})"
   ]
  },
  {
   "cell_type": "code",
   "execution_count": 7,
   "metadata": {},
   "outputs": [
    {
     "data": {
      "text/html": [
       "<div>\n",
       "<style scoped>\n",
       "    .dataframe tbody tr th:only-of-type {\n",
       "        vertical-align: middle;\n",
       "    }\n",
       "\n",
       "    .dataframe tbody tr th {\n",
       "        vertical-align: top;\n",
       "    }\n",
       "\n",
       "    .dataframe thead th {\n",
       "        text-align: right;\n",
       "    }\n",
       "</style>\n",
       "<table border=\"1\" class=\"dataframe\">\n",
       "  <thead>\n",
       "    <tr style=\"text-align: right;\">\n",
       "      <th></th>\n",
       "      <th>E_COMMODITY_SDESC</th>\n",
       "    </tr>\n",
       "    <tr>\n",
       "      <th>E_COMMODITY</th>\n",
       "      <th></th>\n",
       "    </tr>\n",
       "  </thead>\n",
       "  <tbody>\n",
       "    <tr>\n",
       "      <th>01</th>\n",
       "      <td>LIVE ANIMALS</td>\n",
       "    </tr>\n",
       "    <tr>\n",
       "      <th>02</th>\n",
       "      <td>MEAT AND EDIBLE MEAT OFFAL</td>\n",
       "    </tr>\n",
       "    <tr>\n",
       "      <th>03</th>\n",
       "      <td>FISH, CRUSTACEANS &amp; AQUATIC INVERTEBRATES</td>\n",
       "    </tr>\n",
       "    <tr>\n",
       "      <th>04</th>\n",
       "      <td>DAIRY PRODS; BIRDS EGGS; HONEY; ED ANIMAL PR N...</td>\n",
       "    </tr>\n",
       "    <tr>\n",
       "      <th>05</th>\n",
       "      <td>PRODUCTS OF ANIMAL ORIGIN, NESOI</td>\n",
       "    </tr>\n",
       "  </tbody>\n",
       "</table>\n",
       "</div>"
      ],
      "text/plain": [
       "                                             E_COMMODITY_SDESC\n",
       "E_COMMODITY                                                   \n",
       "01                                                LIVE ANIMALS\n",
       "02                                  MEAT AND EDIBLE MEAT OFFAL\n",
       "03                   FISH, CRUSTACEANS & AQUATIC INVERTEBRATES\n",
       "04           DAIRY PRODS; BIRDS EGGS; HONEY; ED ANIMAL PR N...\n",
       "05                            PRODUCTS OF ANIMAL ORIGIN, NESOI"
      ]
     },
     "execution_count": 7,
     "metadata": {},
     "output_type": "execute_result"
    }
   ],
   "source": [
    "dfc.head()"
   ]
  },
  {
   "cell_type": "code",
   "execution_count": 8,
   "metadata": {},
   "outputs": [
    {
     "data": {
      "text/html": [
       "<div>\n",
       "<style scoped>\n",
       "    .dataframe tbody tr th:only-of-type {\n",
       "        vertical-align: middle;\n",
       "    }\n",
       "\n",
       "    .dataframe tbody tr th {\n",
       "        vertical-align: top;\n",
       "    }\n",
       "\n",
       "    .dataframe thead th {\n",
       "        text-align: right;\n",
       "    }\n",
       "</style>\n",
       "<table border=\"1\" class=\"dataframe\">\n",
       "  <thead>\n",
       "    <tr style=\"text-align: right;\">\n",
       "      <th></th>\n",
       "      <th>time</th>\n",
       "      <th>CTY_CODE</th>\n",
       "      <th>china_exports</th>\n",
       "      <th>hs6</th>\n",
       "      <th>china_exports_quant</th>\n",
       "      <th>quant_type</th>\n",
       "      <th>hs4</th>\n",
       "      <th>hs4_o</th>\n",
       "      <th>description</th>\n",
       "      <th>low_catagory</th>\n",
       "      <th>high_catagory</th>\n",
       "      <th>_merge</th>\n",
       "      <th>hs2</th>\n",
       "    </tr>\n",
       "  </thead>\n",
       "  <tbody>\n",
       "    <tr>\n",
       "      <th>0</th>\n",
       "      <td>2013-01-01</td>\n",
       "      <td>5700</td>\n",
       "      <td>4806.0</td>\n",
       "      <td>841090</td>\n",
       "      <td>0.0</td>\n",
       "      <td>-</td>\n",
       "      <td>8410</td>\n",
       "      <td>8410</td>\n",
       "      <td>Hydraulic turbines, water wheels and regulator...</td>\n",
       "      <td>Industrial machinery</td>\n",
       "      <td>1. Manufactured Goods</td>\n",
       "      <td>both</td>\n",
       "      <td>84</td>\n",
       "    </tr>\n",
       "    <tr>\n",
       "      <th>11</th>\n",
       "      <td>2013-01-01</td>\n",
       "      <td>5700</td>\n",
       "      <td>279107.0</td>\n",
       "      <td>900211</td>\n",
       "      <td>0.0</td>\n",
       "      <td>-</td>\n",
       "      <td>9002</td>\n",
       "      <td>9002</td>\n",
       "      <td>Lens,es  prism, s  mirrors and other optical e...</td>\n",
       "      <td>Optical and medical instruments</td>\n",
       "      <td>1. Manufactured Goods</td>\n",
       "      <td>both</td>\n",
       "      <td>90</td>\n",
       "    </tr>\n",
       "    <tr>\n",
       "      <th>26</th>\n",
       "      <td>2013-01-01</td>\n",
       "      <td>5700</td>\n",
       "      <td>4007.0</td>\n",
       "      <td>110630</td>\n",
       "      <td>0.0</td>\n",
       "      <td>-</td>\n",
       "      <td>1106</td>\n",
       "      <td>1106</td>\n",
       "      <td>Flour and meal of dried leguminous vegetables ...</td>\n",
       "      <td>Cereals</td>\n",
       "      <td>2. Agriculture</td>\n",
       "      <td>both</td>\n",
       "      <td>11</td>\n",
       "    </tr>\n",
       "    <tr>\n",
       "      <th>27</th>\n",
       "      <td>2013-01-01</td>\n",
       "      <td>5700</td>\n",
       "      <td>404107.0</td>\n",
       "      <td>130212</td>\n",
       "      <td>0.0</td>\n",
       "      <td>-</td>\n",
       "      <td>1302</td>\n",
       "      <td>1302</td>\n",
       "      <td>Vegetable saps and extracts; pectic substances...</td>\n",
       "      <td>Other agricultural commodities</td>\n",
       "      <td>2. Agriculture</td>\n",
       "      <td>both</td>\n",
       "      <td>13</td>\n",
       "    </tr>\n",
       "    <tr>\n",
       "      <th>28</th>\n",
       "      <td>2013-01-01</td>\n",
       "      <td>5700</td>\n",
       "      <td>438996.0</td>\n",
       "      <td>841191</td>\n",
       "      <td>0.0</td>\n",
       "      <td>-</td>\n",
       "      <td>8411</td>\n",
       "      <td>8411</td>\n",
       "      <td>Turboj   e,ts   turbopropellers and other gas ...</td>\n",
       "      <td>Industrial machinery</td>\n",
       "      <td>1. Manufactured Goods</td>\n",
       "      <td>both</td>\n",
       "      <td>84</td>\n",
       "    </tr>\n",
       "  </tbody>\n",
       "</table>\n",
       "</div>"
      ],
      "text/plain": [
       "         time CTY_CODE  china_exports     hs6  china_exports_quant quant_type  \\\n",
       "0  2013-01-01     5700         4806.0  841090                  0.0          -   \n",
       "11 2013-01-01     5700       279107.0  900211                  0.0          -   \n",
       "26 2013-01-01     5700         4007.0  110630                  0.0          -   \n",
       "27 2013-01-01     5700       404107.0  130212                  0.0          -   \n",
       "28 2013-01-01     5700       438996.0  841191                  0.0          -   \n",
       "\n",
       "     hs4 hs4_o                                        description  \\\n",
       "0   8410  8410  Hydraulic turbines, water wheels and regulator...   \n",
       "11  9002  9002  Lens,es  prism, s  mirrors and other optical e...   \n",
       "26  1106  1106  Flour and meal of dried leguminous vegetables ...   \n",
       "27  1302  1302  Vegetable saps and extracts; pectic substances...   \n",
       "28  8411  8411  Turboj   e,ts   turbopropellers and other gas ...   \n",
       "\n",
       "                       low_catagory          high_catagory _merge hs2  \n",
       "0              Industrial machinery  1. Manufactured Goods   both  84  \n",
       "11  Optical and medical instruments  1. Manufactured Goods   both  90  \n",
       "26                          Cereals         2. Agriculture   both  11  \n",
       "27   Other agricultural commodities         2. Agriculture   both  13  \n",
       "28             Industrial machinery  1. Manufactured Goods   both  84  "
      ]
     },
     "execution_count": 8,
     "metadata": {},
     "output_type": "execute_result"
    }
   ],
   "source": [
    "df.head()"
   ]
  },
  {
   "cell_type": "code",
   "execution_count": 9,
   "metadata": {},
   "outputs": [],
   "source": [
    "aws = df.groupby([\"hs2\",\"time\"]).agg({\"china_exports\":\"sum\"})"
   ]
  },
  {
   "cell_type": "code",
   "execution_count": 10,
   "metadata": {},
   "outputs": [],
   "source": [
    "aws = aws.merge(dfc, left_on = [\"hs2\"], right_index = True, how = \"left\")\n",
    "\n",
    "aws.reset_index(inplace = True)\n",
    "\n",
    "aws[\"E_COMMODITY_SDESC\"] = aws[\"E_COMMODITY_SDESC\"] + \", HS CODE \" + aws.hs2"
   ]
  },
  {
   "cell_type": "code",
   "execution_count": 11,
   "metadata": {},
   "outputs": [],
   "source": [
    "aws.set_index([\"E_COMMODITY_SDESC\",\"time\"],inplace = True)"
   ]
  },
  {
   "cell_type": "code",
   "execution_count": 12,
   "metadata": {},
   "outputs": [],
   "source": [
    "out_file = \".\\\\data\"+ \"\\\\data.parquet\"\n",
    "\n",
    "pq.write_table(pa.Table.from_pandas(aws), out_file)"
   ]
  },
  {
   "cell_type": "code",
   "execution_count": 13,
   "metadata": {},
   "outputs": [
    {
     "data": {
      "text/html": [
       "<div>\n",
       "<style scoped>\n",
       "    .dataframe tbody tr th:only-of-type {\n",
       "        vertical-align: middle;\n",
       "    }\n",
       "\n",
       "    .dataframe tbody tr th {\n",
       "        vertical-align: top;\n",
       "    }\n",
       "\n",
       "    .dataframe thead th {\n",
       "        text-align: right;\n",
       "    }\n",
       "</style>\n",
       "<table border=\"1\" class=\"dataframe\">\n",
       "  <thead>\n",
       "    <tr style=\"text-align: right;\">\n",
       "      <th></th>\n",
       "      <th>hs2</th>\n",
       "      <th>china_exports</th>\n",
       "    </tr>\n",
       "    <tr>\n",
       "      <th>time</th>\n",
       "      <th></th>\n",
       "      <th></th>\n",
       "    </tr>\n",
       "  </thead>\n",
       "  <tbody>\n",
       "    <tr>\n",
       "      <th>2013-01-01</th>\n",
       "      <td>72</td>\n",
       "      <td>114103112.0</td>\n",
       "    </tr>\n",
       "    <tr>\n",
       "      <th>2013-02-01</th>\n",
       "      <td>72</td>\n",
       "      <td>158804662.0</td>\n",
       "    </tr>\n",
       "    <tr>\n",
       "      <th>2013-03-01</th>\n",
       "      <td>72</td>\n",
       "      <td>128598274.0</td>\n",
       "    </tr>\n",
       "    <tr>\n",
       "      <th>2013-04-01</th>\n",
       "      <td>72</td>\n",
       "      <td>98804647.0</td>\n",
       "    </tr>\n",
       "    <tr>\n",
       "      <th>2013-05-01</th>\n",
       "      <td>72</td>\n",
       "      <td>146780917.0</td>\n",
       "    </tr>\n",
       "    <tr>\n",
       "      <th>...</th>\n",
       "      <td>...</td>\n",
       "      <td>...</td>\n",
       "    </tr>\n",
       "    <tr>\n",
       "      <th>2020-07-01</th>\n",
       "      <td>72</td>\n",
       "      <td>40085617.0</td>\n",
       "    </tr>\n",
       "    <tr>\n",
       "      <th>2020-08-01</th>\n",
       "      <td>72</td>\n",
       "      <td>57228239.0</td>\n",
       "    </tr>\n",
       "    <tr>\n",
       "      <th>2020-09-01</th>\n",
       "      <td>72</td>\n",
       "      <td>34440581.0</td>\n",
       "    </tr>\n",
       "    <tr>\n",
       "      <th>2020-10-01</th>\n",
       "      <td>72</td>\n",
       "      <td>66403896.0</td>\n",
       "    </tr>\n",
       "    <tr>\n",
       "      <th>2020-11-01</th>\n",
       "      <td>72</td>\n",
       "      <td>20493249.0</td>\n",
       "    </tr>\n",
       "  </tbody>\n",
       "</table>\n",
       "<p>95 rows × 2 columns</p>\n",
       "</div>"
      ],
      "text/plain": [
       "           hs2  china_exports\n",
       "time                         \n",
       "2013-01-01  72    114103112.0\n",
       "2013-02-01  72    158804662.0\n",
       "2013-03-01  72    128598274.0\n",
       "2013-04-01  72     98804647.0\n",
       "2013-05-01  72    146780917.0\n",
       "...         ..            ...\n",
       "2020-07-01  72     40085617.0\n",
       "2020-08-01  72     57228239.0\n",
       "2020-09-01  72     34440581.0\n",
       "2020-10-01  72     66403896.0\n",
       "2020-11-01  72     20493249.0\n",
       "\n",
       "[95 rows x 2 columns]"
      ]
     },
     "execution_count": 13,
     "metadata": {},
     "output_type": "execute_result"
    }
   ],
   "source": [
    "file = \".\\\\data\"+ \"\\\\data.parquet\"\n",
    "\n",
    "df = pq.read_table(file).to_pandas()\n",
    "\n",
    "df.loc[\"IRON AND STEEL, HS CODE 72\"]"
   ]
  },
  {
   "cell_type": "code",
   "execution_count": 14,
   "metadata": {},
   "outputs": [
    {
     "data": {
      "text/plain": [
       "3557751166.0"
      ]
     },
     "execution_count": 14,
     "metadata": {},
     "output_type": "execute_result"
    }
   ],
   "source": [
    "df.china_exports.max()"
   ]
  },
  {
   "cell_type": "code",
   "execution_count": 15,
   "metadata": {},
   "outputs": [
    {
     "data": {
      "text/html": [
       "<div>\n",
       "<style scoped>\n",
       "    .dataframe tbody tr th:only-of-type {\n",
       "        vertical-align: middle;\n",
       "    }\n",
       "\n",
       "    .dataframe tbody tr th {\n",
       "        vertical-align: top;\n",
       "    }\n",
       "\n",
       "    .dataframe thead th {\n",
       "        text-align: right;\n",
       "    }\n",
       "</style>\n",
       "<table border=\"1\" class=\"dataframe\">\n",
       "  <thead>\n",
       "    <tr style=\"text-align: right;\">\n",
       "      <th></th>\n",
       "      <th></th>\n",
       "      <th>hs2</th>\n",
       "      <th>china_exports</th>\n",
       "    </tr>\n",
       "    <tr>\n",
       "      <th>E_COMMODITY_SDESC</th>\n",
       "      <th>time</th>\n",
       "      <th></th>\n",
       "      <th></th>\n",
       "    </tr>\n",
       "  </thead>\n",
       "  <tbody>\n",
       "  </tbody>\n",
       "</table>\n",
       "</div>"
      ],
      "text/plain": [
       "Empty DataFrame\n",
       "Columns: [hs2, china_exports]\n",
       "Index: []"
      ]
     },
     "execution_count": 15,
     "metadata": {},
     "output_type": "execute_result"
    }
   ],
   "source": [
    "df[df.hs2 == \"31\"]"
   ]
  },
  {
   "cell_type": "code",
   "execution_count": null,
   "metadata": {},
   "outputs": [],
   "source": []
  }
 ],
 "metadata": {
  "kernelspec": {
   "display_name": "Python 3",
   "language": "python",
   "name": "python3"
  },
  "language_info": {
   "codemirror_mode": {
    "name": "ipython",
    "version": 3
   },
   "file_extension": ".py",
   "mimetype": "text/x-python",
   "name": "python",
   "nbconvert_exporter": "python",
   "pygments_lexer": "ipython3",
   "version": "3.7.3"
  }
 },
 "nbformat": 4,
 "nbformat_minor": 4
}
